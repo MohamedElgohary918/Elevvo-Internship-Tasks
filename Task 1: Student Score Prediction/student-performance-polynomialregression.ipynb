{
 "cells": [
  {
   "cell_type": "code",
   "execution_count": 1,
   "id": "1bf624cb",
   "metadata": {
    "_cell_guid": "b1076dfc-b9ad-4769-8c92-a6c4dae69d19",
    "_uuid": "8f2839f25d086af736a60e9eeb907d3b93b6e0e5",
    "execution": {
     "iopub.execute_input": "2025-07-27T11:31:56.895466Z",
     "iopub.status.busy": "2025-07-27T11:31:56.895110Z",
     "iopub.status.idle": "2025-07-27T11:31:58.662589Z",
     "shell.execute_reply": "2025-07-27T11:31:58.661710Z"
    },
    "papermill": {
     "duration": 1.777131,
     "end_time": "2025-07-27T11:31:58.664403",
     "exception": false,
     "start_time": "2025-07-27T11:31:56.887272",
     "status": "completed"
    },
    "tags": []
   },
   "outputs": [],
   "source": [
    "import pandas as pd \n",
    "import numpy as np## 2. Data Loading"
   ]
  },
  {
   "cell_type": "code",
   "execution_count": 2,
   "id": "aa7ee082",
   "metadata": {
    "execution": {
     "iopub.execute_input": "2025-07-27T11:31:58.677731Z",
     "iopub.status.busy": "2025-07-27T11:31:58.677315Z",
     "iopub.status.idle": "2025-07-27T11:31:58.681726Z",
     "shell.execute_reply": "2025-07-27T11:31:58.680921Z"
    },
    "papermill": {
     "duration": 0.012622,
     "end_time": "2025-07-27T11:31:58.683108",
     "exception": false,
     "start_time": "2025-07-27T11:31:58.670486",
     "status": "completed"
    },
    "tags": []
   },
   "outputs": [],
   "source": [
    "import warnings\n",
    "warnings.filterwarnings('ignore')"
   ]
  },
  {
   "cell_type": "markdown",
   "id": "ce618be4",
   "metadata": {
    "papermill": {
     "duration": 0.005083,
     "end_time": "2025-07-27T11:31:58.693735",
     "exception": false,
     "start_time": "2025-07-27T11:31:58.688652",
     "status": "completed"
    },
    "tags": []
   },
   "source": [
    "## 1. Introduction & Objective"
   ]
  },
  {
   "cell_type": "markdown",
   "id": "98c0cce5",
   "metadata": {
    "papermill": {
     "duration": 0.005544,
     "end_time": "2025-07-27T11:31:58.705110",
     "exception": false,
     "start_time": "2025-07-27T11:31:58.699566",
     "status": "completed"
    },
    "tags": []
   },
   "source": [
    "| Attribute                | Description                                                        |\n",
    "|--------------------------|--------------------------------------------------------------------|\n",
    "| Hours_Studied            | Number of hours spent studying per week.                           |\n",
    "| Attendance               | Percentage of classes attended.                                    |\n",
    "| Parental_Involvement     | Level of parental involvement in the student's education (Low, Medium, High). |\n",
    "| Access_to_Resources      | Availability of educational resources (Low, Medium, High).         |\n",
    "| Extracurricular_Activities | Participation in extracurricular activities (Yes, No).          |\n",
    "| Sleep_Hours              | Average number of hours of sleep per night.                        |\n",
    "| Previous_Scores          | Scores from previous exams.                                        |\n",
    "| Motivation_Level         | Student's level of motivation (Low, Medium, High).                 |\n",
    "| Internet_Access          | Availability of internet access (Yes, No).                         |\n",
    "| Tutoring_Sessions        | Number of tutoring sessions attended per month.                    |\n",
    "| Family_Income            | Family income level (Low, Medium, High).                           |\n",
    "| Teacher_Quality          | Quality of the teachers (Low, Medium, High).                       |\n",
    "| School_Type              | Type of school attended (Public, Private).                         |\n",
    "| Peer_Influence           | Influence of peers on academic performance (Positive, Neutral, Negative). |\n",
    "| Physical_Activity        | Average number of hours of physical activity per week.             |\n",
    "| Learning_Disabilities    | Presence of learning disabilities (Yes, No).                       |\n",
    "| Parental_Education_Level | Highest education level of parents (High School, College, Postgraduate). |\n",
    "| Distance_from_Home       | Distance from home to school (Near, Moderate, Far).                 |\n",
    "| Gender                   | Gender of the student (Male, Female).                              |\n",
    "| Exam_Score               | Final exam score.                                                  |\n"
   ]
  },
  {
   "cell_type": "markdown",
   "id": "4c785bf1",
   "metadata": {
    "papermill": {
     "duration": 0.004944,
     "end_time": "2025-07-27T11:31:58.715318",
     "exception": false,
     "start_time": "2025-07-27T11:31:58.710374",
     "status": "completed"
    },
    "tags": []
   },
   "source": [
    "## 2. Data Loading"
   ]
  },
  {
   "cell_type": "code",
   "execution_count": 3,
   "id": "02ee281c",
   "metadata": {
    "execution": {
     "iopub.execute_input": "2025-07-27T11:31:58.727234Z",
     "iopub.status.busy": "2025-07-27T11:31:58.726597Z",
     "iopub.status.idle": "2025-07-27T11:31:58.806725Z",
     "shell.execute_reply": "2025-07-27T11:31:58.805927Z"
    },
    "papermill": {
     "duration": 0.087748,
     "end_time": "2025-07-27T11:31:58.808294",
     "exception": false,
     "start_time": "2025-07-27T11:31:58.720546",
     "status": "completed"
    },
    "tags": []
   },
   "outputs": [
    {
     "data": {
      "text/html": [
       "<div>\n",
       "<style scoped>\n",
       "    .dataframe tbody tr th:only-of-type {\n",
       "        vertical-align: middle;\n",
       "    }\n",
       "\n",
       "    .dataframe tbody tr th {\n",
       "        vertical-align: top;\n",
       "    }\n",
       "\n",
       "    .dataframe thead th {\n",
       "        text-align: right;\n",
       "    }\n",
       "</style>\n",
       "<table border=\"1\" class=\"dataframe\">\n",
       "  <thead>\n",
       "    <tr style=\"text-align: right;\">\n",
       "      <th></th>\n",
       "      <th>Hours_Studied</th>\n",
       "      <th>Attendance</th>\n",
       "      <th>Parental_Involvement</th>\n",
       "      <th>Access_to_Resources</th>\n",
       "      <th>Extracurricular_Activities</th>\n",
       "      <th>Sleep_Hours</th>\n",
       "      <th>Previous_Scores</th>\n",
       "      <th>Motivation_Level</th>\n",
       "      <th>Internet_Access</th>\n",
       "      <th>Tutoring_Sessions</th>\n",
       "      <th>Family_Income</th>\n",
       "      <th>Teacher_Quality</th>\n",
       "      <th>School_Type</th>\n",
       "      <th>Peer_Influence</th>\n",
       "      <th>Physical_Activity</th>\n",
       "      <th>Learning_Disabilities</th>\n",
       "      <th>Parental_Education_Level</th>\n",
       "      <th>Distance_from_Home</th>\n",
       "      <th>Gender</th>\n",
       "      <th>Exam_Score</th>\n",
       "    </tr>\n",
       "  </thead>\n",
       "  <tbody>\n",
       "    <tr>\n",
       "      <th>0</th>\n",
       "      <td>23</td>\n",
       "      <td>84</td>\n",
       "      <td>Low</td>\n",
       "      <td>High</td>\n",
       "      <td>No</td>\n",
       "      <td>7</td>\n",
       "      <td>73</td>\n",
       "      <td>Low</td>\n",
       "      <td>Yes</td>\n",
       "      <td>0</td>\n",
       "      <td>Low</td>\n",
       "      <td>Medium</td>\n",
       "      <td>Public</td>\n",
       "      <td>Positive</td>\n",
       "      <td>3</td>\n",
       "      <td>No</td>\n",
       "      <td>High School</td>\n",
       "      <td>Near</td>\n",
       "      <td>Male</td>\n",
       "      <td>67</td>\n",
       "    </tr>\n",
       "    <tr>\n",
       "      <th>1</th>\n",
       "      <td>19</td>\n",
       "      <td>64</td>\n",
       "      <td>Low</td>\n",
       "      <td>Medium</td>\n",
       "      <td>No</td>\n",
       "      <td>8</td>\n",
       "      <td>59</td>\n",
       "      <td>Low</td>\n",
       "      <td>Yes</td>\n",
       "      <td>2</td>\n",
       "      <td>Medium</td>\n",
       "      <td>Medium</td>\n",
       "      <td>Public</td>\n",
       "      <td>Negative</td>\n",
       "      <td>4</td>\n",
       "      <td>No</td>\n",
       "      <td>College</td>\n",
       "      <td>Moderate</td>\n",
       "      <td>Female</td>\n",
       "      <td>61</td>\n",
       "    </tr>\n",
       "    <tr>\n",
       "      <th>2</th>\n",
       "      <td>24</td>\n",
       "      <td>98</td>\n",
       "      <td>Medium</td>\n",
       "      <td>Medium</td>\n",
       "      <td>Yes</td>\n",
       "      <td>7</td>\n",
       "      <td>91</td>\n",
       "      <td>Medium</td>\n",
       "      <td>Yes</td>\n",
       "      <td>2</td>\n",
       "      <td>Medium</td>\n",
       "      <td>Medium</td>\n",
       "      <td>Public</td>\n",
       "      <td>Neutral</td>\n",
       "      <td>4</td>\n",
       "      <td>No</td>\n",
       "      <td>Postgraduate</td>\n",
       "      <td>Near</td>\n",
       "      <td>Male</td>\n",
       "      <td>74</td>\n",
       "    </tr>\n",
       "    <tr>\n",
       "      <th>3</th>\n",
       "      <td>29</td>\n",
       "      <td>89</td>\n",
       "      <td>Low</td>\n",
       "      <td>Medium</td>\n",
       "      <td>Yes</td>\n",
       "      <td>8</td>\n",
       "      <td>98</td>\n",
       "      <td>Medium</td>\n",
       "      <td>Yes</td>\n",
       "      <td>1</td>\n",
       "      <td>Medium</td>\n",
       "      <td>Medium</td>\n",
       "      <td>Public</td>\n",
       "      <td>Negative</td>\n",
       "      <td>4</td>\n",
       "      <td>No</td>\n",
       "      <td>High School</td>\n",
       "      <td>Moderate</td>\n",
       "      <td>Male</td>\n",
       "      <td>71</td>\n",
       "    </tr>\n",
       "    <tr>\n",
       "      <th>4</th>\n",
       "      <td>19</td>\n",
       "      <td>92</td>\n",
       "      <td>Medium</td>\n",
       "      <td>Medium</td>\n",
       "      <td>Yes</td>\n",
       "      <td>6</td>\n",
       "      <td>65</td>\n",
       "      <td>Medium</td>\n",
       "      <td>Yes</td>\n",
       "      <td>3</td>\n",
       "      <td>Medium</td>\n",
       "      <td>High</td>\n",
       "      <td>Public</td>\n",
       "      <td>Neutral</td>\n",
       "      <td>4</td>\n",
       "      <td>No</td>\n",
       "      <td>College</td>\n",
       "      <td>Near</td>\n",
       "      <td>Female</td>\n",
       "      <td>70</td>\n",
       "    </tr>\n",
       "  </tbody>\n",
       "</table>\n",
       "</div>"
      ],
      "text/plain": [
       "   Hours_Studied  Attendance Parental_Involvement Access_to_Resources  \\\n",
       "0             23          84                  Low                High   \n",
       "1             19          64                  Low              Medium   \n",
       "2             24          98               Medium              Medium   \n",
       "3             29          89                  Low              Medium   \n",
       "4             19          92               Medium              Medium   \n",
       "\n",
       "  Extracurricular_Activities  Sleep_Hours  Previous_Scores Motivation_Level  \\\n",
       "0                         No            7               73              Low   \n",
       "1                         No            8               59              Low   \n",
       "2                        Yes            7               91           Medium   \n",
       "3                        Yes            8               98           Medium   \n",
       "4                        Yes            6               65           Medium   \n",
       "\n",
       "  Internet_Access  Tutoring_Sessions Family_Income Teacher_Quality  \\\n",
       "0             Yes                  0           Low          Medium   \n",
       "1             Yes                  2        Medium          Medium   \n",
       "2             Yes                  2        Medium          Medium   \n",
       "3             Yes                  1        Medium          Medium   \n",
       "4             Yes                  3        Medium            High   \n",
       "\n",
       "  School_Type Peer_Influence  Physical_Activity Learning_Disabilities  \\\n",
       "0      Public       Positive                  3                    No   \n",
       "1      Public       Negative                  4                    No   \n",
       "2      Public        Neutral                  4                    No   \n",
       "3      Public       Negative                  4                    No   \n",
       "4      Public        Neutral                  4                    No   \n",
       "\n",
       "  Parental_Education_Level Distance_from_Home  Gender  Exam_Score  \n",
       "0              High School               Near    Male          67  \n",
       "1                  College           Moderate  Female          61  \n",
       "2             Postgraduate               Near    Male          74  \n",
       "3              High School           Moderate    Male          71  \n",
       "4                  College               Near  Female          70  "
      ]
     },
     "execution_count": 3,
     "metadata": {},
     "output_type": "execute_result"
    }
   ],
   "source": [
    "df = pd.read_csv('/kaggle/input/student-performance-factors/StudentPerformanceFactors.csv')\n",
    "df.head()"
   ]
  },
  {
   "cell_type": "code",
   "execution_count": 4,
   "id": "96a41c20",
   "metadata": {
    "execution": {
     "iopub.execute_input": "2025-07-27T11:31:58.822087Z",
     "iopub.status.busy": "2025-07-27T11:31:58.821420Z",
     "iopub.status.idle": "2025-07-27T11:31:58.848673Z",
     "shell.execute_reply": "2025-07-27T11:31:58.847732Z"
    },
    "papermill": {
     "duration": 0.035331,
     "end_time": "2025-07-27T11:31:58.850192",
     "exception": false,
     "start_time": "2025-07-27T11:31:58.814861",
     "status": "completed"
    },
    "tags": []
   },
   "outputs": [
    {
     "name": "stdout",
     "output_type": "stream",
     "text": [
      "<class 'pandas.core.frame.DataFrame'>\n",
      "RangeIndex: 6607 entries, 0 to 6606\n",
      "Data columns (total 20 columns):\n",
      " #   Column                      Non-Null Count  Dtype \n",
      "---  ------                      --------------  ----- \n",
      " 0   Hours_Studied               6607 non-null   int64 \n",
      " 1   Attendance                  6607 non-null   int64 \n",
      " 2   Parental_Involvement        6607 non-null   object\n",
      " 3   Access_to_Resources         6607 non-null   object\n",
      " 4   Extracurricular_Activities  6607 non-null   object\n",
      " 5   Sleep_Hours                 6607 non-null   int64 \n",
      " 6   Previous_Scores             6607 non-null   int64 \n",
      " 7   Motivation_Level            6607 non-null   object\n",
      " 8   Internet_Access             6607 non-null   object\n",
      " 9   Tutoring_Sessions           6607 non-null   int64 \n",
      " 10  Family_Income               6607 non-null   object\n",
      " 11  Teacher_Quality             6529 non-null   object\n",
      " 12  School_Type                 6607 non-null   object\n",
      " 13  Peer_Influence              6607 non-null   object\n",
      " 14  Physical_Activity           6607 non-null   int64 \n",
      " 15  Learning_Disabilities       6607 non-null   object\n",
      " 16  Parental_Education_Level    6517 non-null   object\n",
      " 17  Distance_from_Home          6540 non-null   object\n",
      " 18  Gender                      6607 non-null   object\n",
      " 19  Exam_Score                  6607 non-null   int64 \n",
      "dtypes: int64(7), object(13)\n",
      "memory usage: 1.0+ MB\n"
     ]
    }
   ],
   "source": [
    "df.info()"
   ]
  },
  {
   "cell_type": "code",
   "execution_count": 5,
   "id": "e5f524dc",
   "metadata": {
    "execution": {
     "iopub.execute_input": "2025-07-27T11:31:58.862756Z",
     "iopub.status.busy": "2025-07-27T11:31:58.862475Z",
     "iopub.status.idle": "2025-07-27T11:31:58.873850Z",
     "shell.execute_reply": "2025-07-27T11:31:58.873039Z"
    },
    "papermill": {
     "duration": 0.01931,
     "end_time": "2025-07-27T11:31:58.875300",
     "exception": false,
     "start_time": "2025-07-27T11:31:58.855990",
     "status": "completed"
    },
    "tags": []
   },
   "outputs": [
    {
     "data": {
      "text/plain": [
       "Hours_Studied                  0\n",
       "Attendance                     0\n",
       "Parental_Involvement           0\n",
       "Access_to_Resources            0\n",
       "Extracurricular_Activities     0\n",
       "Sleep_Hours                    0\n",
       "Previous_Scores                0\n",
       "Motivation_Level               0\n",
       "Internet_Access                0\n",
       "Tutoring_Sessions              0\n",
       "Family_Income                  0\n",
       "Teacher_Quality               78\n",
       "School_Type                    0\n",
       "Peer_Influence                 0\n",
       "Physical_Activity              0\n",
       "Learning_Disabilities          0\n",
       "Parental_Education_Level      90\n",
       "Distance_from_Home            67\n",
       "Gender                         0\n",
       "Exam_Score                     0\n",
       "dtype: int64"
      ]
     },
     "execution_count": 5,
     "metadata": {},
     "output_type": "execute_result"
    }
   ],
   "source": [
    "df.isna().sum()"
   ]
  },
  {
   "cell_type": "code",
   "execution_count": 6,
   "id": "107f3a00",
   "metadata": {
    "execution": {
     "iopub.execute_input": "2025-07-27T11:31:58.888632Z",
     "iopub.status.busy": "2025-07-27T11:31:58.888098Z",
     "iopub.status.idle": "2025-07-27T11:31:58.901177Z",
     "shell.execute_reply": "2025-07-27T11:31:58.900344Z"
    },
    "papermill": {
     "duration": 0.021212,
     "end_time": "2025-07-27T11:31:58.902494",
     "exception": false,
     "start_time": "2025-07-27T11:31:58.881282",
     "status": "completed"
    },
    "tags": []
   },
   "outputs": [
    {
     "data": {
      "text/plain": [
       "0"
      ]
     },
     "execution_count": 6,
     "metadata": {},
     "output_type": "execute_result"
    }
   ],
   "source": [
    "df.duplicated().sum()"
   ]
  },
  {
   "cell_type": "code",
   "execution_count": 7,
   "id": "7f566568",
   "metadata": {
    "execution": {
     "iopub.execute_input": "2025-07-27T11:31:58.916025Z",
     "iopub.status.busy": "2025-07-27T11:31:58.915174Z",
     "iopub.status.idle": "2025-07-27T11:31:58.920918Z",
     "shell.execute_reply": "2025-07-27T11:31:58.920089Z"
    },
    "papermill": {
     "duration": 0.013732,
     "end_time": "2025-07-27T11:31:58.922231",
     "exception": false,
     "start_time": "2025-07-27T11:31:58.908499",
     "status": "completed"
    },
    "tags": []
   },
   "outputs": [
    {
     "data": {
      "text/plain": [
       "(6607, 20)"
      ]
     },
     "execution_count": 7,
     "metadata": {},
     "output_type": "execute_result"
    }
   ],
   "source": [
    "df.shape"
   ]
  },
  {
   "cell_type": "code",
   "execution_count": 8,
   "id": "a6cbc952",
   "metadata": {
    "execution": {
     "iopub.execute_input": "2025-07-27T11:31:58.935777Z",
     "iopub.status.busy": "2025-07-27T11:31:58.934981Z",
     "iopub.status.idle": "2025-07-27T11:31:58.949364Z",
     "shell.execute_reply": "2025-07-27T11:31:58.948557Z"
    },
    "papermill": {
     "duration": 0.022346,
     "end_time": "2025-07-27T11:31:58.950674",
     "exception": false,
     "start_time": "2025-07-27T11:31:58.928328",
     "status": "completed"
    },
    "tags": []
   },
   "outputs": [
    {
     "data": {
      "text/plain": [
       "(6378, 20)"
      ]
     },
     "execution_count": 8,
     "metadata": {},
     "output_type": "execute_result"
    }
   ],
   "source": [
    "df.dropna(inplace=True)\n",
    "df.shape"
   ]
  },
  {
   "cell_type": "code",
   "execution_count": 9,
   "id": "35b5fc87",
   "metadata": {
    "execution": {
     "iopub.execute_input": "2025-07-27T11:31:58.964340Z",
     "iopub.status.busy": "2025-07-27T11:31:58.963612Z",
     "iopub.status.idle": "2025-07-27T11:31:58.989479Z",
     "shell.execute_reply": "2025-07-27T11:31:58.988683Z"
    },
    "papermill": {
     "duration": 0.033852,
     "end_time": "2025-07-27T11:31:58.990762",
     "exception": false,
     "start_time": "2025-07-27T11:31:58.956910",
     "status": "completed"
    },
    "tags": []
   },
   "outputs": [
    {
     "data": {
      "text/html": [
       "<div>\n",
       "<style scoped>\n",
       "    .dataframe tbody tr th:only-of-type {\n",
       "        vertical-align: middle;\n",
       "    }\n",
       "\n",
       "    .dataframe tbody tr th {\n",
       "        vertical-align: top;\n",
       "    }\n",
       "\n",
       "    .dataframe thead th {\n",
       "        text-align: right;\n",
       "    }\n",
       "</style>\n",
       "<table border=\"1\" class=\"dataframe\">\n",
       "  <thead>\n",
       "    <tr style=\"text-align: right;\">\n",
       "      <th></th>\n",
       "      <th>Hours_Studied</th>\n",
       "      <th>Attendance</th>\n",
       "      <th>Sleep_Hours</th>\n",
       "      <th>Previous_Scores</th>\n",
       "      <th>Tutoring_Sessions</th>\n",
       "      <th>Physical_Activity</th>\n",
       "      <th>Exam_Score</th>\n",
       "    </tr>\n",
       "  </thead>\n",
       "  <tbody>\n",
       "    <tr>\n",
       "      <th>count</th>\n",
       "      <td>6378.000000</td>\n",
       "      <td>6378.000000</td>\n",
       "      <td>6378.000000</td>\n",
       "      <td>6378.000000</td>\n",
       "      <td>6378.000000</td>\n",
       "      <td>6378.000000</td>\n",
       "      <td>6378.000000</td>\n",
       "    </tr>\n",
       "    <tr>\n",
       "      <th>mean</th>\n",
       "      <td>19.977109</td>\n",
       "      <td>80.020853</td>\n",
       "      <td>7.034964</td>\n",
       "      <td>75.066165</td>\n",
       "      <td>1.495296</td>\n",
       "      <td>2.972719</td>\n",
       "      <td>67.252117</td>\n",
       "    </tr>\n",
       "    <tr>\n",
       "      <th>std</th>\n",
       "      <td>5.985460</td>\n",
       "      <td>11.550723</td>\n",
       "      <td>1.468033</td>\n",
       "      <td>14.400389</td>\n",
       "      <td>1.233984</td>\n",
       "      <td>1.028926</td>\n",
       "      <td>3.914217</td>\n",
       "    </tr>\n",
       "    <tr>\n",
       "      <th>min</th>\n",
       "      <td>1.000000</td>\n",
       "      <td>60.000000</td>\n",
       "      <td>4.000000</td>\n",
       "      <td>50.000000</td>\n",
       "      <td>0.000000</td>\n",
       "      <td>0.000000</td>\n",
       "      <td>55.000000</td>\n",
       "    </tr>\n",
       "    <tr>\n",
       "      <th>25%</th>\n",
       "      <td>16.000000</td>\n",
       "      <td>70.000000</td>\n",
       "      <td>6.000000</td>\n",
       "      <td>63.000000</td>\n",
       "      <td>1.000000</td>\n",
       "      <td>2.000000</td>\n",
       "      <td>65.000000</td>\n",
       "    </tr>\n",
       "    <tr>\n",
       "      <th>50%</th>\n",
       "      <td>20.000000</td>\n",
       "      <td>80.000000</td>\n",
       "      <td>7.000000</td>\n",
       "      <td>75.000000</td>\n",
       "      <td>1.000000</td>\n",
       "      <td>3.000000</td>\n",
       "      <td>67.000000</td>\n",
       "    </tr>\n",
       "    <tr>\n",
       "      <th>75%</th>\n",
       "      <td>24.000000</td>\n",
       "      <td>90.000000</td>\n",
       "      <td>8.000000</td>\n",
       "      <td>88.000000</td>\n",
       "      <td>2.000000</td>\n",
       "      <td>4.000000</td>\n",
       "      <td>69.000000</td>\n",
       "    </tr>\n",
       "    <tr>\n",
       "      <th>max</th>\n",
       "      <td>44.000000</td>\n",
       "      <td>100.000000</td>\n",
       "      <td>10.000000</td>\n",
       "      <td>100.000000</td>\n",
       "      <td>8.000000</td>\n",
       "      <td>6.000000</td>\n",
       "      <td>101.000000</td>\n",
       "    </tr>\n",
       "  </tbody>\n",
       "</table>\n",
       "</div>"
      ],
      "text/plain": [
       "       Hours_Studied   Attendance  Sleep_Hours  Previous_Scores  \\\n",
       "count    6378.000000  6378.000000  6378.000000      6378.000000   \n",
       "mean       19.977109    80.020853     7.034964        75.066165   \n",
       "std         5.985460    11.550723     1.468033        14.400389   \n",
       "min         1.000000    60.000000     4.000000        50.000000   \n",
       "25%        16.000000    70.000000     6.000000        63.000000   \n",
       "50%        20.000000    80.000000     7.000000        75.000000   \n",
       "75%        24.000000    90.000000     8.000000        88.000000   \n",
       "max        44.000000   100.000000    10.000000       100.000000   \n",
       "\n",
       "       Tutoring_Sessions  Physical_Activity   Exam_Score  \n",
       "count        6378.000000        6378.000000  6378.000000  \n",
       "mean            1.495296           2.972719    67.252117  \n",
       "std             1.233984           1.028926     3.914217  \n",
       "min             0.000000           0.000000    55.000000  \n",
       "25%             1.000000           2.000000    65.000000  \n",
       "50%             1.000000           3.000000    67.000000  \n",
       "75%             2.000000           4.000000    69.000000  \n",
       "max             8.000000           6.000000   101.000000  "
      ]
     },
     "execution_count": 9,
     "metadata": {},
     "output_type": "execute_result"
    }
   ],
   "source": [
    "df.describe()"
   ]
  },
  {
   "cell_type": "code",
   "execution_count": 10,
   "id": "280327aa",
   "metadata": {
    "execution": {
     "iopub.execute_input": "2025-07-27T11:31:59.004664Z",
     "iopub.status.busy": "2025-07-27T11:31:59.004121Z",
     "iopub.status.idle": "2025-07-27T11:31:59.010424Z",
     "shell.execute_reply": "2025-07-27T11:31:59.009659Z"
    },
    "papermill": {
     "duration": 0.014572,
     "end_time": "2025-07-27T11:31:59.011722",
     "exception": false,
     "start_time": "2025-07-27T11:31:58.997150",
     "status": "completed"
    },
    "tags": []
   },
   "outputs": [
    {
     "data": {
      "text/plain": [
       "Index(['Hours_Studied', 'Attendance', 'Sleep_Hours', 'Previous_Scores',\n",
       "       'Tutoring_Sessions', 'Physical_Activity', 'Exam_Score'],\n",
       "      dtype='object')"
      ]
     },
     "execution_count": 10,
     "metadata": {},
     "output_type": "execute_result"
    }
   ],
   "source": [
    "numeric_columns = df.select_dtypes(include=['number']).columns\n",
    "numeric_columns"
   ]
  },
  {
   "cell_type": "code",
   "execution_count": 11,
   "id": "0af1957b",
   "metadata": {
    "execution": {
     "iopub.execute_input": "2025-07-27T11:31:59.025624Z",
     "iopub.status.busy": "2025-07-27T11:31:59.025336Z",
     "iopub.status.idle": "2025-07-27T11:32:01.275581Z",
     "shell.execute_reply": "2025-07-27T11:32:01.274734Z"
    },
    "papermill": {
     "duration": 2.259694,
     "end_time": "2025-07-27T11:32:01.277903",
     "exception": false,
     "start_time": "2025-07-27T11:31:59.018209",
     "status": "completed"
    },
    "tags": []
   },
   "outputs": [
    {
     "data": {
      "image/png": "[encoded data removed]",
      "text/plain": [
       "<Figure size 600x400 with 2 Axes>"
      ]
     },
     "metadata": {},
     "output_type": "display_data"
    }
   ],
   "source": [
    "import matplotlib.pyplot as plt\n",
    "import seaborn as sns\n",
    "\n",
    "corr_matrix = df.corr(numeric_only=True)\n",
    "\n",
    "plt.figure(figsize=(6, 4))\n",
    "sns.heatmap(corr_matrix, annot=True, cmap='coolwarm', fmt=\".2f\")\n",
    "plt.title('Correlation Matrix of Numerical Features')\n",
    "plt.show()\n"
   ]
  },
  {
   "cell_type": "code",
   "execution_count": 12,
   "id": "9e024008",
   "metadata": {
    "execution": {
     "iopub.execute_input": "2025-07-27T11:32:01.295085Z",
     "iopub.status.busy": "2025-07-27T11:32:01.294449Z",
     "iopub.status.idle": "2025-07-27T11:32:03.156013Z",
     "shell.execute_reply": "2025-07-27T11:32:03.155132Z"
    },
    "papermill": {
     "duration": 1.871333,
     "end_time": "2025-07-27T11:32:03.157370",
     "exception": false,
     "start_time": "2025-07-27T11:32:01.286037",
     "status": "completed"
    },
    "tags": []
   },
   "outputs": [
    {
     "data": {
      "image/png": "[encoded data removed]",
      "text/plain": [
       "<Figure size 640x480 with 1 Axes>"
      ]
     },
     "metadata": {},
     "output_type": "display_data"
    },
    {
     "data": {
      "image/png": "[encoded data removed]",
      "text/plain": [
       "<Figure size 640x480 with 1 Axes>"
      ]
     },
     "metadata": {},
     "output_type": "display_data"
    },
    {
     "data": {
      "image/png": "[encoded data removed]",
      "text/plain": [
       "<Figure size 640x480 with 1 Axes>"
      ]
     },
     "metadata": {},
     "output_type": "display_data"
    },
    {
     "data": {
      "image/png": "[encoded data removed]",
      "text/plain": [
       "<Figure size 640x480 with 1 Axes>"
      ]
     },
     "metadata": {},
     "output_type": "display_data"
    },
    {
     "data": {
      "image/png": "[encoded data removed]",
      "text/plain": [
       "<Figure size 640x480 with 1 Axes>"
      ]
     },
     "metadata": {},
     "output_type": "display_data"
    },
    {
     "data": {
      "image/png": "[encoded data removed]",
      "text/plain": [
       "<Figure size 640x480 with 1 Axes>"
      ]
     },
     "metadata": {},
     "output_type": "display_data"
    },
    {
     "data": {
      "image/png": "[encoded data removed]",
      "text/plain": [
       "<Figure size 640x480 with 1 Axes>"
      ]
     },
     "metadata": {},
     "output_type": "display_data"
    }
   ],
   "source": [
    "for col in df:\n",
    "    if df[col].dtype != 'O':\n",
    "        sns.histplot(df[col],kde=True)\n",
    "        plt.show()"
   ]
  },
  {
   "cell_type": "code",
   "execution_count": 13,
   "id": "06c0f7cc",
   "metadata": {
    "execution": {
     "iopub.execute_input": "2025-07-27T11:32:03.182863Z",
     "iopub.status.busy": "2025-07-27T11:32:03.182522Z",
     "iopub.status.idle": "2025-07-27T11:32:03.194445Z",
     "shell.execute_reply": "2025-07-27T11:32:03.193518Z"
    },
    "papermill": {
     "duration": 0.025906,
     "end_time": "2025-07-27T11:32:03.195754",
     "exception": false,
     "start_time": "2025-07-27T11:32:03.169848",
     "status": "completed"
    },
    "tags": []
   },
   "outputs": [
    {
     "name": "stdout",
     "output_type": "stream",
     "text": [
      "['Low' 'Medium' 'High']\n",
      "['High' 'Medium' 'Low']\n",
      "['No' 'Yes']\n",
      "['Low' 'Medium' 'High']\n",
      "['Yes' 'No']\n",
      "['Low' 'Medium' 'High']\n",
      "['Medium' 'High' 'Low']\n",
      "['Public' 'Private']\n",
      "['Positive' 'Negative' 'Neutral']\n",
      "['No' 'Yes']\n",
      "['High School' 'College' 'Postgraduate']\n",
      "['Near' 'Moderate' 'Far']\n",
      "['Male' 'Female']\n"
     ]
    }
   ],
   "source": [
    "categorical_columns = df.select_dtypes(include=['object']).columns\n",
    "for column in categorical_columns:\n",
    "  print(df[column].unique())"
   ]
  },
  {
   "cell_type": "code",
   "execution_count": 14,
   "id": "18accb52",
   "metadata": {
    "execution": {
     "iopub.execute_input": "2025-07-27T11:32:03.220337Z",
     "iopub.status.busy": "2025-07-27T11:32:03.219347Z",
     "iopub.status.idle": "2025-07-27T11:32:03.237659Z",
     "shell.execute_reply": "2025-07-27T11:32:03.236648Z"
    },
    "papermill": {
     "duration": 0.031548,
     "end_time": "2025-07-27T11:32:03.238936",
     "exception": false,
     "start_time": "2025-07-27T11:32:03.207388",
     "status": "completed"
    },
    "tags": []
   },
   "outputs": [
    {
     "name": "stdout",
     "output_type": "stream",
     "text": [
      "Column:  Parental_Involvement\n",
      "Medium    3251\n",
      "High      1836\n",
      "Low       1291\n",
      "Name: count, dtype: int64\n",
      "Column:  Access_to_Resources\n",
      "Medium    3204\n",
      "High      1900\n",
      "Low       1274\n",
      "Name: count, dtype: int64\n",
      "Column:  Extracurricular_Activities\n",
      "Yes    3807\n",
      "No     2571\n",
      "Name: count, dtype: int64\n",
      "Column:  Motivation_Level\n",
      "Medium    3237\n",
      "Low       1864\n",
      "High      1277\n",
      "Name: count, dtype: int64\n",
      "Column:  Internet_Access\n",
      "Yes    5893\n",
      "No      485\n",
      "Name: count, dtype: int64\n",
      "Column:  Family_Income\n",
      "Low       2582\n",
      "Medium    2566\n",
      "High      1230\n",
      "Name: count, dtype: int64\n",
      "Column:  Teacher_Quality\n",
      "Medium    3826\n",
      "High      1905\n",
      "Low        647\n",
      "Name: count, dtype: int64\n",
      "Column:  School_Type\n",
      "Public     4434\n",
      "Private    1944\n",
      "Name: count, dtype: int64\n",
      "Column:  Peer_Influence\n",
      "Positive    2553\n",
      "Neutral     2495\n",
      "Negative    1330\n",
      "Name: count, dtype: int64\n",
      "Column:  Learning_Disabilities\n",
      "No     5710\n",
      "Yes     668\n",
      "Name: count, dtype: int64\n",
      "Column:  Parental_Education_Level\n",
      "High School     3159\n",
      "College         1939\n",
      "Postgraduate    1280\n",
      "Name: count, dtype: int64\n",
      "Column:  Distance_from_Home\n",
      "Near        3801\n",
      "Moderate    1941\n",
      "Far          636\n",
      "Name: count, dtype: int64\n",
      "Column:  Gender\n",
      "Male      3688\n",
      "Female    2690\n",
      "Name: count, dtype: int64\n"
     ]
    }
   ],
   "source": [
    "for column in categorical_columns:\n",
    "  print(\"Column: \",df[column].value_counts())"
   ]
  },
  {
   "cell_type": "markdown",
   "id": "f6420126",
   "metadata": {
    "papermill": {
     "duration": 0.011251,
     "end_time": "2025-07-27T11:32:03.261716",
     "exception": false,
     "start_time": "2025-07-27T11:32:03.250465",
     "status": "completed"
    },
    "tags": []
   },
   "source": [
    "## 3. Data Cleaning & Preprocessing\n",
    "\n",
    "  * Encode Categorical cloumn\n",
    "  * Remove Records with Wrong values in Exam_Score >100\n",
    "  * Handel Outliers in Columns Hours_Studied andTutoring_Sessions\n",
    "  * Split Data to train and test data"
   ]
  },
  {
   "cell_type": "markdown",
   "id": "38a6260a",
   "metadata": {
    "papermill": {
     "duration": 0.011556,
     "end_time": "2025-07-27T11:32:03.284748",
     "exception": false,
     "start_time": "2025-07-27T11:32:03.273192",
     "status": "completed"
    },
    "tags": []
   },
   "source": [
    "### Categorical Columns: Ordinal vs Nominal\n",
    "\n",
    "- **Ordinal columns**: Categories have a natural order or ranking (e.g., Low < Medium < High).  \n",
    "  Examples: `Parental_Involvement`, `Access_to_Resources`, `Motivation_Level`.\n",
    "\n",
    "- **Nominal columns**: Categories have no inherent order; they are just labels.  \n",
    "  Examples: `Gender`, `School_Type`, `Internet_Access`.\n",
    "\n",
    "**Encoding Strategy:**  \n",
    "- Use **Label Encoding** for **ordinal columns** to preserve order.  \n",
    "- Use **One-Hot Encoding** for **nominal columns** to avoid false ranking.\n",
    "**bold text**"
   ]
  },
  {
   "cell_type": "code",
   "execution_count": 15,
   "id": "317ef32d",
   "metadata": {
    "execution": {
     "iopub.execute_input": "2025-07-27T11:32:03.309051Z",
     "iopub.status.busy": "2025-07-27T11:32:03.308702Z",
     "iopub.status.idle": "2025-07-27T11:32:03.502712Z",
     "shell.execute_reply": "2025-07-27T11:32:03.501955Z"
    },
    "papermill": {
     "duration": 0.207984,
     "end_time": "2025-07-27T11:32:03.504129",
     "exception": false,
     "start_time": "2025-07-27T11:32:03.296145",
     "status": "completed"
    },
    "tags": []
   },
   "outputs": [
    {
     "data": {
      "text/html": [
       "<div>\n",
       "<style scoped>\n",
       "    .dataframe tbody tr th:only-of-type {\n",
       "        vertical-align: middle;\n",
       "    }\n",
       "\n",
       "    .dataframe tbody tr th {\n",
       "        vertical-align: top;\n",
       "    }\n",
       "\n",
       "    .dataframe thead th {\n",
       "        text-align: right;\n",
       "    }\n",
       "</style>\n",
       "<table border=\"1\" class=\"dataframe\">\n",
       "  <thead>\n",
       "    <tr style=\"text-align: right;\">\n",
       "      <th></th>\n",
       "      <th>Hours_Studied</th>\n",
       "      <th>Attendance</th>\n",
       "      <th>Parental_Involvement</th>\n",
       "      <th>Access_to_Resources</th>\n",
       "      <th>Sleep_Hours</th>\n",
       "      <th>Previous_Scores</th>\n",
       "      <th>Motivation_Level</th>\n",
       "      <th>Tutoring_Sessions</th>\n",
       "      <th>Family_Income</th>\n",
       "      <th>Teacher_Quality</th>\n",
       "      <th>...</th>\n",
       "      <th>Parental_Education_Level</th>\n",
       "      <th>Distance_from_Home</th>\n",
       "      <th>Exam_Score</th>\n",
       "      <th>Extracurricular_Activities_Yes</th>\n",
       "      <th>Internet_Access_Yes</th>\n",
       "      <th>School_Type_Public</th>\n",
       "      <th>Peer_Influence_Neutral</th>\n",
       "      <th>Peer_Influence_Positive</th>\n",
       "      <th>Learning_Disabilities_Yes</th>\n",
       "      <th>Gender_Male</th>\n",
       "    </tr>\n",
       "  </thead>\n",
       "  <tbody>\n",
       "    <tr>\n",
       "      <th>0</th>\n",
       "      <td>23</td>\n",
       "      <td>84</td>\n",
       "      <td>1</td>\n",
       "      <td>0</td>\n",
       "      <td>7</td>\n",
       "      <td>73</td>\n",
       "      <td>1</td>\n",
       "      <td>0</td>\n",
       "      <td>1</td>\n",
       "      <td>2</td>\n",
       "      <td>...</td>\n",
       "      <td>1</td>\n",
       "      <td>2</td>\n",
       "      <td>67</td>\n",
       "      <td>False</td>\n",
       "      <td>True</td>\n",
       "      <td>True</td>\n",
       "      <td>False</td>\n",
       "      <td>True</td>\n",
       "      <td>False</td>\n",
       "      <td>True</td>\n",
       "    </tr>\n",
       "    <tr>\n",
       "      <th>1</th>\n",
       "      <td>19</td>\n",
       "      <td>64</td>\n",
       "      <td>1</td>\n",
       "      <td>2</td>\n",
       "      <td>8</td>\n",
       "      <td>59</td>\n",
       "      <td>1</td>\n",
       "      <td>2</td>\n",
       "      <td>2</td>\n",
       "      <td>2</td>\n",
       "      <td>...</td>\n",
       "      <td>0</td>\n",
       "      <td>1</td>\n",
       "      <td>61</td>\n",
       "      <td>False</td>\n",
       "      <td>True</td>\n",
       "      <td>True</td>\n",
       "      <td>False</td>\n",
       "      <td>False</td>\n",
       "      <td>False</td>\n",
       "      <td>False</td>\n",
       "    </tr>\n",
       "    <tr>\n",
       "      <th>2</th>\n",
       "      <td>24</td>\n",
       "      <td>98</td>\n",
       "      <td>2</td>\n",
       "      <td>2</td>\n",
       "      <td>7</td>\n",
       "      <td>91</td>\n",
       "      <td>2</td>\n",
       "      <td>2</td>\n",
       "      <td>2</td>\n",
       "      <td>2</td>\n",
       "      <td>...</td>\n",
       "      <td>2</td>\n",
       "      <td>2</td>\n",
       "      <td>74</td>\n",
       "      <td>True</td>\n",
       "      <td>True</td>\n",
       "      <td>True</td>\n",
       "      <td>True</td>\n",
       "      <td>False</td>\n",
       "      <td>False</td>\n",
       "      <td>True</td>\n",
       "    </tr>\n",
       "    <tr>\n",
       "      <th>3</th>\n",
       "      <td>29</td>\n",
       "      <td>89</td>\n",
       "      <td>1</td>\n",
       "      <td>2</td>\n",
       "      <td>8</td>\n",
       "      <td>98</td>\n",
       "      <td>2</td>\n",
       "      <td>1</td>\n",
       "      <td>2</td>\n",
       "      <td>2</td>\n",
       "      <td>...</td>\n",
       "      <td>1</td>\n",
       "      <td>1</td>\n",
       "      <td>71</td>\n",
       "      <td>True</td>\n",
       "      <td>True</td>\n",
       "      <td>True</td>\n",
       "      <td>False</td>\n",
       "      <td>False</td>\n",
       "      <td>False</td>\n",
       "      <td>True</td>\n",
       "    </tr>\n",
       "    <tr>\n",
       "      <th>4</th>\n",
       "      <td>19</td>\n",
       "      <td>92</td>\n",
       "      <td>2</td>\n",
       "      <td>2</td>\n",
       "      <td>6</td>\n",
       "      <td>65</td>\n",
       "      <td>2</td>\n",
       "      <td>3</td>\n",
       "      <td>2</td>\n",
       "      <td>0</td>\n",
       "      <td>...</td>\n",
       "      <td>0</td>\n",
       "      <td>2</td>\n",
       "      <td>70</td>\n",
       "      <td>True</td>\n",
       "      <td>True</td>\n",
       "      <td>True</td>\n",
       "      <td>True</td>\n",
       "      <td>False</td>\n",
       "      <td>False</td>\n",
       "      <td>False</td>\n",
       "    </tr>\n",
       "  </tbody>\n",
       "</table>\n",
       "<p>5 rows × 21 columns</p>\n",
       "</div>"
      ],
      "text/plain": [
       "   Hours_Studied  Attendance  Parental_Involvement  Access_to_Resources  \\\n",
       "0             23          84                     1                    0   \n",
       "1             19          64                     1                    2   \n",
       "2             24          98                     2                    2   \n",
       "3             29          89                     1                    2   \n",
       "4             19          92                     2                    2   \n",
       "\n",
       "   Sleep_Hours  Previous_Scores  Motivation_Level  Tutoring_Sessions  \\\n",
       "0            7               73                 1                  0   \n",
       "1            8               59                 1                  2   \n",
       "2            7               91                 2                  2   \n",
       "3            8               98                 2                  1   \n",
       "4            6               65                 2                  3   \n",
       "\n",
       "   Family_Income  Teacher_Quality  ...  Parental_Education_Level  \\\n",
       "0              1                2  ...                         1   \n",
       "1              2                2  ...                         0   \n",
       "2              2                2  ...                         2   \n",
       "3              2                2  ...                         1   \n",
       "4              2                0  ...                         0   \n",
       "\n",
       "   Distance_from_Home  Exam_Score  Extracurricular_Activities_Yes  \\\n",
       "0                   2          67                           False   \n",
       "1                   1          61                           False   \n",
       "2                   2          74                            True   \n",
       "3                   1          71                            True   \n",
       "4                   2          70                            True   \n",
       "\n",
       "   Internet_Access_Yes  School_Type_Public  Peer_Influence_Neutral  \\\n",
       "0                 True                True                   False   \n",
       "1                 True                True                   False   \n",
       "2                 True                True                    True   \n",
       "3                 True                True                   False   \n",
       "4                 True                True                    True   \n",
       "\n",
       "   Peer_Influence_Positive  Learning_Disabilities_Yes  Gender_Male  \n",
       "0                     True                      False         True  \n",
       "1                    False                      False        False  \n",
       "2                    False                      False         True  \n",
       "3                    False                      False         True  \n",
       "4                    False                      False        False  \n",
       "\n",
       "[5 rows x 21 columns]"
      ]
     },
     "execution_count": 15,
     "metadata": {},
     "output_type": "execute_result"
    }
   ],
   "source": [
    "from sklearn.preprocessing import LabelEncoder\n",
    "\n",
    "# Ordinal columns: have a natural order (Low < Medium < High, etc.)\n",
    "ordinal_columns = [\n",
    "    'Parental_Involvement',      # Low < Medium < High\n",
    "    'Access_to_Resources',       # Low < Medium < High\n",
    "    'Motivation_Level',          # Low < Medium < High\n",
    "    'Family_Income',             # Low < Medium < High\n",
    "    'Teacher_Quality',           # Low < Medium < High\n",
    "    'Parental_Education_Level',  # High School < College < Postgraduate\n",
    "    'Distance_from_Home'         # Near < Moderate < Far\n",
    "]\n",
    "\n",
    "# Nominal columns: no natural order (categories are just names)\n",
    "nominal_columns = [\n",
    "    'Extracurricular_Activities',  # Yes, No\n",
    "    'Internet_Access',             # Yes, No\n",
    "    'School_Type',                 # Public, Private\n",
    "    'Peer_Influence',              # Positive, Neutral, Negative\n",
    "    'Learning_Disabilities',       # Yes, No\n",
    "    'Gender'                       # Male, Female\n",
    "]\n",
    "\n",
    "df = pd.get_dummies(df, columns=nominal_columns, drop_first=True)\n",
    "\n",
    "# Create a LabelEncoder object\n",
    "label_encoder = LabelEncoder()\n",
    "for column in ordinal_columns:\n",
    "    df[column] = label_encoder.fit_transform(df[column])\n",
    "\n",
    "df.head()\n",
    "\n"
   ]
  },
  {
   "cell_type": "code",
   "execution_count": 16,
   "id": "40587a36",
   "metadata": {
    "execution": {
     "iopub.execute_input": "2025-07-27T11:32:03.530313Z",
     "iopub.status.busy": "2025-07-27T11:32:03.529621Z",
     "iopub.status.idle": "2025-07-27T11:32:03.534960Z",
     "shell.execute_reply": "2025-07-27T11:32:03.534220Z"
    },
    "papermill": {
     "duration": 0.019439,
     "end_time": "2025-07-27T11:32:03.536443",
     "exception": false,
     "start_time": "2025-07-27T11:32:03.517004",
     "status": "completed"
    },
    "tags": []
   },
   "outputs": [
    {
     "data": {
      "text/plain": [
       "(6378, 21)"
      ]
     },
     "execution_count": 16,
     "metadata": {},
     "output_type": "execute_result"
    }
   ],
   "source": [
    "df.shape"
   ]
  },
  {
   "cell_type": "code",
   "execution_count": 17,
   "id": "250c59d9",
   "metadata": {
    "execution": {
     "iopub.execute_input": "2025-07-27T11:32:03.561901Z",
     "iopub.status.busy": "2025-07-27T11:32:03.561166Z",
     "iopub.status.idle": "2025-07-27T11:32:03.567867Z",
     "shell.execute_reply": "2025-07-27T11:32:03.567186Z"
    },
    "papermill": {
     "duration": 0.020726,
     "end_time": "2025-07-27T11:32:03.569177",
     "exception": false,
     "start_time": "2025-07-27T11:32:03.548451",
     "status": "completed"
    },
    "tags": []
   },
   "outputs": [
    {
     "data": {
      "text/plain": [
       "(6377, 21)"
      ]
     },
     "execution_count": 17,
     "metadata": {},
     "output_type": "execute_result"
    }
   ],
   "source": [
    "df = df[df['Exam_Score']<=100]\n",
    "df.shape"
   ]
  },
  {
   "cell_type": "markdown",
   "id": "a099c550",
   "metadata": {
    "papermill": {
     "duration": 0.01143,
     "end_time": "2025-07-27T11:32:03.592562",
     "exception": false,
     "start_time": "2025-07-27T11:32:03.581132",
     "status": "completed"
    },
    "tags": []
   },
   "source": [
    "### Outlier Detection: Why Z-Score?\n",
    "\n",
    "Since the data is **normally distributed**, we use **Z-Score** to detect outliers.\n",
    "\n",
    "- **Z-Score** measures how many standard deviations a data point is from the mean\n",
    "- A common rule: **|Z| > 3** → Outlier.\n",
    "- **Why not IQR?**\n",
    "  - IQR is better for skewed data because it relies on median and quartiles.\n",
    "  - For normal data, Z-Score is more accurate as it directly uses mean and standard deviation.\n"
   ]
  },
  {
   "cell_type": "code",
   "execution_count": 18,
   "id": "ed3f347f",
   "metadata": {
    "execution": {
     "iopub.execute_input": "2025-07-27T11:32:03.618498Z",
     "iopub.status.busy": "2025-07-27T11:32:03.617673Z",
     "iopub.status.idle": "2025-07-27T11:32:03.641057Z",
     "shell.execute_reply": "2025-07-27T11:32:03.640166Z"
    },
    "papermill": {
     "duration": 0.038254,
     "end_time": "2025-07-27T11:32:03.642622",
     "exception": false,
     "start_time": "2025-07-27T11:32:03.604368",
     "status": "completed"
    },
    "tags": []
   },
   "outputs": [],
   "source": [
    "# Removing outliers from dataset based on the Z-score method\n",
    "\n",
    "z = np.abs((df - df.mean()) / df.std())\n",
    "threshold = 3\n",
    "df= df[(z < threshold).all(axis=1)]"
   ]
  },
  {
   "cell_type": "code",
   "execution_count": 19,
   "id": "eb61add6",
   "metadata": {
    "execution": {
     "iopub.execute_input": "2025-07-27T11:32:03.669026Z",
     "iopub.status.busy": "2025-07-27T11:32:03.668254Z",
     "iopub.status.idle": "2025-07-27T11:32:03.673976Z",
     "shell.execute_reply": "2025-07-27T11:32:03.673311Z"
    },
    "papermill": {
     "duration": 0.02006,
     "end_time": "2025-07-27T11:32:03.675466",
     "exception": false,
     "start_time": "2025-07-27T11:32:03.655406",
     "status": "completed"
    },
    "tags": []
   },
   "outputs": [],
   "source": [
    "X = df.drop(\"Exam_Score\", axis=1)\n",
    "y = df[\"Exam_Score\"]\n"
   ]
  },
  {
   "cell_type": "code",
   "execution_count": 20,
   "id": "fc54249a",
   "metadata": {
    "execution": {
     "iopub.execute_input": "2025-07-27T11:32:03.702643Z",
     "iopub.status.busy": "2025-07-27T11:32:03.702334Z",
     "iopub.status.idle": "2025-07-27T11:32:03.797321Z",
     "shell.execute_reply": "2025-07-27T11:32:03.796654Z"
    },
    "papermill": {
     "duration": 0.110826,
     "end_time": "2025-07-27T11:32:03.798931",
     "exception": false,
     "start_time": "2025-07-27T11:32:03.688105",
     "status": "completed"
    },
    "tags": []
   },
   "outputs": [],
   "source": [
    "from sklearn.model_selection import train_test_split\n",
    "X_train, X_test, y_train, y_test = train_test_split(X, y, test_size=0.2, random_state=42)\n"
   ]
  },
  {
   "cell_type": "markdown",
   "id": "d708b70a",
   "metadata": {
    "papermill": {
     "duration": 0.011726,
     "end_time": "2025-07-27T11:32:03.823044",
     "exception": false,
     "start_time": "2025-07-27T11:32:03.811318",
     "status": "completed"
    },
    "tags": []
   },
   "source": [
    "## 4. Model Training"
   ]
  },
  {
   "cell_type": "markdown",
   "id": "89a001e5",
   "metadata": {
    "papermill": {
     "duration": 0.011552,
     "end_time": "2025-07-27T11:32:03.846748",
     "exception": false,
     "start_time": "2025-07-27T11:32:03.835196",
     "status": "completed"
    },
    "tags": []
   },
   "source": [
    "### **LinearRegression**"
   ]
  },
  {
   "cell_type": "code",
   "execution_count": 21,
   "id": "d6ccf34e",
   "metadata": {
    "execution": {
     "iopub.execute_input": "2025-07-27T11:32:03.871711Z",
     "iopub.status.busy": "2025-07-27T11:32:03.871403Z",
     "iopub.status.idle": "2025-07-27T11:32:04.000817Z",
     "shell.execute_reply": "2025-07-27T11:32:04.000001Z"
    },
    "papermill": {
     "duration": 0.143959,
     "end_time": "2025-07-27T11:32:04.002517",
     "exception": false,
     "start_time": "2025-07-27T11:32:03.858558",
     "status": "completed"
    },
    "tags": []
   },
   "outputs": [
    {
     "data": {
      "text/html": [
       "<style>#sk-container-id-1 {color: black;background-color: white;}#sk-container-id-1 pre{padding: 0;}#sk-container-id-1 div.sk-toggleable {background-color: white;}#sk-container-id-1 label.sk-toggleable__label {cursor: pointer;display: block;width: 100%;margin-bottom: 0;padding: 0.3em;box-sizing: border-box;text-align: center;}#sk-container-id-1 label.sk-toggleable__label-arrow:before {content: \"▸\";float: left;margin-right: 0.25em;color: #696969;}#sk-container-id-1 label.sk-toggleable__label-arrow:hover:before {color: black;}#sk-container-id-1 div.sk-estimator:hover label.sk-toggleable__label-arrow:before {color: black;}#sk-container-id-1 div.sk-toggleable__content {max-height: 0;max-width: 0;overflow: hidden;text-align: left;background-color: #f0f8ff;}#sk-container-id-1 div.sk-toggleable__content pre {margin: 0.2em;color: black;border-radius: 0.25em;background-color: #f0f8ff;}#sk-container-id-1 input.sk-toggleable__control:checked~div.sk-toggleable__content {max-height: 200px;max-width: 100%;overflow: auto;}#sk-container-id-1 input.sk-toggleable__control:checked~label.sk-toggleable__label-arrow:before {content: \"▾\";}#sk-container-id-1 div.sk-estimator input.sk-toggleable__control:checked~label.sk-toggleable__label {background-color: #d4ebff;}#sk-container-id-1 div.sk-label input.sk-toggleable__control:checked~label.sk-toggleable__label {background-color: #d4ebff;}#sk-container-id-1 input.sk-hidden--visually {border: 0;clip: rect(1px 1px 1px 1px);clip: rect(1px, 1px, 1px, 1px);height: 1px;margin: -1px;overflow: hidden;padding: 0;position: absolute;width: 1px;}#sk-container-id-1 div.sk-estimator {font-family: monospace;background-color: #f0f8ff;border: 1px dotted black;border-radius: 0.25em;box-sizing: border-box;margin-bottom: 0.5em;}#sk-container-id-1 div.sk-estimator:hover {background-color: #d4ebff;}#sk-container-id-1 div.sk-parallel-item::after {content: \"\";width: 100%;border-bottom: 1px solid gray;flex-grow: 1;}#sk-container-id-1 div.sk-label:hover label.sk-toggleable__label {background-color: #d4ebff;}#sk-container-id-1 div.sk-serial::before {content: \"\";position: absolute;border-left: 1px solid gray;box-sizing: border-box;top: 0;bottom: 0;left: 50%;z-index: 0;}#sk-container-id-1 div.sk-serial {display: flex;flex-direction: column;align-items: center;background-color: white;padding-right: 0.2em;padding-left: 0.2em;position: relative;}#sk-container-id-1 div.sk-item {position: relative;z-index: 1;}#sk-container-id-1 div.sk-parallel {display: flex;align-items: stretch;justify-content: center;background-color: white;position: relative;}#sk-container-id-1 div.sk-item::before, #sk-container-id-1 div.sk-parallel-item::before {content: \"\";position: absolute;border-left: 1px solid gray;box-sizing: border-box;top: 0;bottom: 0;left: 50%;z-index: -1;}#sk-container-id-1 div.sk-parallel-item {display: flex;flex-direction: column;z-index: 1;position: relative;background-color: white;}#sk-container-id-1 div.sk-parallel-item:first-child::after {align-self: flex-end;width: 50%;}#sk-container-id-1 div.sk-parallel-item:last-child::after {align-self: flex-start;width: 50%;}#sk-container-id-1 div.sk-parallel-item:only-child::after {width: 0;}#sk-container-id-1 div.sk-dashed-wrapped {border: 1px dashed gray;margin: 0 0.4em 0.5em 0.4em;box-sizing: border-box;padding-bottom: 0.4em;background-color: white;}#sk-container-id-1 div.sk-label label {font-family: monospace;font-weight: bold;display: inline-block;line-height: 1.2em;}#sk-container-id-1 div.sk-label-container {text-align: center;}#sk-container-id-1 div.sk-container {/* jupyter's `normalize.less` sets `[hidden] { display: none; }` but bootstrap.min.css set `[hidden] { display: none !important; }` so we also need the `!important` here to be able to override the default hidden behavior on the sphinx rendered scikit-learn.org. See: https://github.com/scikit-learn/scikit-learn/issues/21755 */display: inline-block !important;position: relative;}#sk-container-id-1 div.sk-text-repr-fallback {display: none;}</style><div id=\"sk-container-id-1\" class=\"sk-top-container\"><div class=\"sk-text-repr-fallback\"><pre>LinearRegression()</pre><b>In a Jupyter environment, please rerun this cell to show the HTML representation or trust the notebook. <br />On GitHub, the HTML representation is unable to render, please try loading this page with nbviewer.org.</b></div><div class=\"sk-container\" hidden><div class=\"sk-item\"><div class=\"sk-estimator sk-toggleable\"><input class=\"sk-toggleable__control sk-hidden--visually\" id=\"sk-estimator-id-1\" type=\"checkbox\" checked><label for=\"sk-estimator-id-1\" class=\"sk-toggleable__label sk-toggleable__label-arrow\">LinearRegression</label><div class=\"sk-toggleable__content\"><pre>LinearRegression()</pre></div></div></div></div></div>"
      ],
      "text/plain": [
       "LinearRegression()"
      ]
     },
     "execution_count": 21,
     "metadata": {},
     "output_type": "execute_result"
    }
   ],
   "source": [
    "from sklearn.linear_model import LinearRegression\n",
    "from sklearn.metrics import mean_absolute_error, r2_score\n",
    "model= LinearRegression()\n",
    "model.fit(X_train, y_train)\n"
   ]
  },
  {
   "cell_type": "code",
   "execution_count": 22,
   "id": "8527cedf",
   "metadata": {
    "execution": {
     "iopub.execute_input": "2025-07-27T11:32:04.042967Z",
     "iopub.status.busy": "2025-07-27T11:32:04.042621Z",
     "iopub.status.idle": "2025-07-27T11:32:04.058235Z",
     "shell.execute_reply": "2025-07-27T11:32:04.057475Z"
    },
    "papermill": {
     "duration": 0.039324,
     "end_time": "2025-07-27T11:32:04.061644",
     "exception": false,
     "start_time": "2025-07-27T11:32:04.022320",
     "status": "completed"
    },
    "tags": []
   },
   "outputs": [
    {
     "name": "stdout",
     "output_type": "stream",
     "text": [
      "LinearRegression:\n",
      "MAE: 0.92\n",
      "R-squared: 0.88\n"
     ]
    }
   ],
   "source": [
    "y_pred = model.predict(X_test)\n",
    "mae = mean_absolute_error(y_test, y_pred)\n",
    "r2 = r2_score(y_test, y_pred)\n",
    "print(f\"{model.__class__.__name__}:\")\n",
    "print(f\"MAE: {mae:.2f}\")\n",
    "print(f\"R-squared: {r2:.2f}\")"
   ]
  },
  {
   "cell_type": "markdown",
   "id": "4e64dde3",
   "metadata": {
    "papermill": {
     "duration": 0.019357,
     "end_time": "2025-07-27T11:32:04.101382",
     "exception": false,
     "start_time": "2025-07-27T11:32:04.082025",
     "status": "completed"
    },
    "tags": []
   },
   "source": [
    "### **PolynomialRegression**\n",
    "\n",
    "\n"
   ]
  },
  {
   "cell_type": "code",
   "execution_count": 23,
   "id": "7ee20920",
   "metadata": {
    "execution": {
     "iopub.execute_input": "2025-07-27T11:32:04.191497Z",
     "iopub.status.busy": "2025-07-27T11:32:04.190858Z",
     "iopub.status.idle": "2025-07-27T11:32:04.216299Z",
     "shell.execute_reply": "2025-07-27T11:32:04.215415Z"
    },
    "papermill": {
     "duration": 0.040707,
     "end_time": "2025-07-27T11:32:04.217873",
     "exception": false,
     "start_time": "2025-07-27T11:32:04.177166",
     "status": "completed"
    },
    "tags": []
   },
   "outputs": [],
   "source": [
    "from sklearn.preprocessing import PolynomialFeatures\n",
    "from sklearn.linear_model import LinearRegression\n",
    "\n",
    "poly_features = PolynomialFeatures(degree=2,include_bias=False)\n",
    "X_train_poly = poly_features.fit_transform(X_train)\n",
    "X_test_poly = poly_features.transform(X_test)"
   ]
  },
  {
   "cell_type": "code",
   "execution_count": 24,
   "id": "a8b21f72",
   "metadata": {
    "execution": {
     "iopub.execute_input": "2025-07-27T11:32:04.243991Z",
     "iopub.status.busy": "2025-07-27T11:32:04.243386Z",
     "iopub.status.idle": "2025-07-27T11:32:04.353307Z",
     "shell.execute_reply": "2025-07-27T11:32:04.352494Z"
    },
    "papermill": {
     "duration": 0.124656,
     "end_time": "2025-07-27T11:32:04.355036",
     "exception": false,
     "start_time": "2025-07-27T11:32:04.230380",
     "status": "completed"
    },
    "tags": []
   },
   "outputs": [
    {
     "data": {
      "text/html": [
       "<style>#sk-container-id-2 {color: black;background-color: white;}#sk-container-id-2 pre{padding: 0;}#sk-container-id-2 div.sk-toggleable {background-color: white;}#sk-container-id-2 label.sk-toggleable__label {cursor: pointer;display: block;width: 100%;margin-bottom: 0;padding: 0.3em;box-sizing: border-box;text-align: center;}#sk-container-id-2 label.sk-toggleable__label-arrow:before {content: \"▸\";float: left;margin-right: 0.25em;color: #696969;}#sk-container-id-2 label.sk-toggleable__label-arrow:hover:before {color: black;}#sk-container-id-2 div.sk-estimator:hover label.sk-toggleable__label-arrow:before {color: black;}#sk-container-id-2 div.sk-toggleable__content {max-height: 0;max-width: 0;overflow: hidden;text-align: left;background-color: #f0f8ff;}#sk-container-id-2 div.sk-toggleable__content pre {margin: 0.2em;color: black;border-radius: 0.25em;background-color: #f0f8ff;}#sk-container-id-2 input.sk-toggleable__control:checked~div.sk-toggleable__content {max-height: 200px;max-width: 100%;overflow: auto;}#sk-container-id-2 input.sk-toggleable__control:checked~label.sk-toggleable__label-arrow:before {content: \"▾\";}#sk-container-id-2 div.sk-estimator input.sk-toggleable__control:checked~label.sk-toggleable__label {background-color: #d4ebff;}#sk-container-id-2 div.sk-label input.sk-toggleable__control:checked~label.sk-toggleable__label {background-color: #d4ebff;}#sk-container-id-2 input.sk-hidden--visually {border: 0;clip: rect(1px 1px 1px 1px);clip: rect(1px, 1px, 1px, 1px);height: 1px;margin: -1px;overflow: hidden;padding: 0;position: absolute;width: 1px;}#sk-container-id-2 div.sk-estimator {font-family: monospace;background-color: #f0f8ff;border: 1px dotted black;border-radius: 0.25em;box-sizing: border-box;margin-bottom: 0.5em;}#sk-container-id-2 div.sk-estimator:hover {background-color: #d4ebff;}#sk-container-id-2 div.sk-parallel-item::after {content: \"\";width: 100%;border-bottom: 1px solid gray;flex-grow: 1;}#sk-container-id-2 div.sk-label:hover label.sk-toggleable__label {background-color: #d4ebff;}#sk-container-id-2 div.sk-serial::before {content: \"\";position: absolute;border-left: 1px solid gray;box-sizing: border-box;top: 0;bottom: 0;left: 50%;z-index: 0;}#sk-container-id-2 div.sk-serial {display: flex;flex-direction: column;align-items: center;background-color: white;padding-right: 0.2em;padding-left: 0.2em;position: relative;}#sk-container-id-2 div.sk-item {position: relative;z-index: 1;}#sk-container-id-2 div.sk-parallel {display: flex;align-items: stretch;justify-content: center;background-color: white;position: relative;}#sk-container-id-2 div.sk-item::before, #sk-container-id-2 div.sk-parallel-item::before {content: \"\";position: absolute;border-left: 1px solid gray;box-sizing: border-box;top: 0;bottom: 0;left: 50%;z-index: -1;}#sk-container-id-2 div.sk-parallel-item {display: flex;flex-direction: column;z-index: 1;position: relative;background-color: white;}#sk-container-id-2 div.sk-parallel-item:first-child::after {align-self: flex-end;width: 50%;}#sk-container-id-2 div.sk-parallel-item:last-child::after {align-self: flex-start;width: 50%;}#sk-container-id-2 div.sk-parallel-item:only-child::after {width: 0;}#sk-container-id-2 div.sk-dashed-wrapped {border: 1px dashed gray;margin: 0 0.4em 0.5em 0.4em;box-sizing: border-box;padding-bottom: 0.4em;background-color: white;}#sk-container-id-2 div.sk-label label {font-family: monospace;font-weight: bold;display: inline-block;line-height: 1.2em;}#sk-container-id-2 div.sk-label-container {text-align: center;}#sk-container-id-2 div.sk-container {/* jupyter's `normalize.less` sets `[hidden] { display: none; }` but bootstrap.min.css set `[hidden] { display: none !important; }` so we also need the `!important` here to be able to override the default hidden behavior on the sphinx rendered scikit-learn.org. See: https://github.com/scikit-learn/scikit-learn/issues/21755 */display: inline-block !important;position: relative;}#sk-container-id-2 div.sk-text-repr-fallback {display: none;}</style><div id=\"sk-container-id-2\" class=\"sk-top-container\"><div class=\"sk-text-repr-fallback\"><pre>LinearRegression()</pre><b>In a Jupyter environment, please rerun this cell to show the HTML representation or trust the notebook. <br />On GitHub, the HTML representation is unable to render, please try loading this page with nbviewer.org.</b></div><div class=\"sk-container\" hidden><div class=\"sk-item\"><div class=\"sk-estimator sk-toggleable\"><input class=\"sk-toggleable__control sk-hidden--visually\" id=\"sk-estimator-id-2\" type=\"checkbox\" checked><label for=\"sk-estimator-id-2\" class=\"sk-toggleable__label sk-toggleable__label-arrow\">LinearRegression</label><div class=\"sk-toggleable__content\"><pre>LinearRegression()</pre></div></div></div></div></div>"
      ],
      "text/plain": [
       "LinearRegression()"
      ]
     },
     "execution_count": 24,
     "metadata": {},
     "output_type": "execute_result"
    }
   ],
   "source": [
    "model = LinearRegression()\n",
    "model.fit(X_train_poly, y_train)"
   ]
  },
  {
   "cell_type": "code",
   "execution_count": 25,
   "id": "ec4ddee2",
   "metadata": {
    "execution": {
     "iopub.execute_input": "2025-07-27T11:32:04.397664Z",
     "iopub.status.busy": "2025-07-27T11:32:04.397350Z",
     "iopub.status.idle": "2025-07-27T11:32:04.405359Z",
     "shell.execute_reply": "2025-07-27T11:32:04.404595Z"
    },
    "papermill": {
     "duration": 0.031143,
     "end_time": "2025-07-27T11:32:04.407298",
     "exception": false,
     "start_time": "2025-07-27T11:32:04.376155",
     "status": "completed"
    },
    "tags": []
   },
   "outputs": [
    {
     "data": {
      "text/plain": [
       "(4641, 230)"
      ]
     },
     "execution_count": 25,
     "metadata": {},
     "output_type": "execute_result"
    }
   ],
   "source": [
    "X_train_poly.shape"
   ]
  },
  {
   "cell_type": "code",
   "execution_count": 26,
   "id": "e5019dd5",
   "metadata": {
    "execution": {
     "iopub.execute_input": "2025-07-27T11:32:04.451816Z",
     "iopub.status.busy": "2025-07-27T11:32:04.450075Z",
     "iopub.status.idle": "2025-07-27T11:32:04.463260Z",
     "shell.execute_reply": "2025-07-27T11:32:04.460653Z"
    },
    "papermill": {
     "duration": 0.036911,
     "end_time": "2025-07-27T11:32:04.464806",
     "exception": false,
     "start_time": "2025-07-27T11:32:04.427895",
     "status": "completed"
    },
    "tags": []
   },
   "outputs": [
    {
     "name": "stdout",
     "output_type": "stream",
     "text": [
      "PolynomialRegression\n",
      "MAE: 0.27\n",
      "R-squared: 0.99\n"
     ]
    }
   ],
   "source": [
    "y_pred = model.predict(X_test_poly)\n",
    "mae = mean_absolute_error(y_test, y_pred)\n",
    "r2 = r2_score(y_test, y_pred)\n",
    "print(\"PolynomialRegression\")\n",
    "print(f\"MAE: {mae:.2f}\")\n",
    "print(f\"R-squared: {r2:.2f}\")"
   ]
  },
  {
   "cell_type": "code",
   "execution_count": 27,
   "id": "e4f8b86c",
   "metadata": {
    "execution": {
     "iopub.execute_input": "2025-07-27T11:32:04.492209Z",
     "iopub.status.busy": "2025-07-27T11:32:04.491943Z",
     "iopub.status.idle": "2025-07-27T11:32:04.500545Z",
     "shell.execute_reply": "2025-07-27T11:32:04.499825Z"
    },
    "papermill": {
     "duration": 0.023275,
     "end_time": "2025-07-27T11:32:04.501856",
     "exception": false,
     "start_time": "2025-07-27T11:32:04.478581",
     "status": "completed"
    },
    "tags": []
   },
   "outputs": [
    {
     "name": "stdout",
     "output_type": "stream",
     "text": [
      "PolynomialRegression (Training Data):\n",
      "MAE: 0.27\n",
      "R-squared: 0.99\n",
      "\n",
      "PolynomialRegression (Test Data):\n",
      "MAE: 0.27\n",
      "R-squared: 0.99\n"
     ]
    }
   ],
   "source": [
    "y_train_pred = model.predict(X_train_poly)\n",
    "mae_train = mean_absolute_error(y_train, y_train_pred)\n",
    "r2_train = r2_score(y_train, y_train_pred)\n",
    "\n",
    "print(\"PolynomialRegression (Training Data):\")\n",
    "print(f\"MAE: {mae_train:.2f}\")\n",
    "print(f\"R-squared: {r2_train:.2f}\")\n",
    "\n",
    "print(\"\\nPolynomialRegression (Test Data):\")\n",
    "print(f\"MAE: {mae:.2f}\")\n",
    "print(f\"R-squared: {r2:.2f}\")"
   ]
  }
 ],
 "metadata": {
  "kaggle": {
   "accelerator": "none",
   "dataSources": [
    {
     "datasetId": 5630996,
     "sourceId": 10020238,
     "sourceType": "datasetVersion"
    }
   ],
   "dockerImageVersionId": 31089,
   "isGpuEnabled": false,
   "isInternetEnabled": true,
   "language": "python",
   "sourceType": "notebook"
  },
  "kernelspec": {
   "display_name": "Python 3",
   "language": "python",
   "name": "python3"
  },
  "language_info": {
   "codemirror_mode": {
    "name": "ipython",
    "version": 3
   },
   "file_extension": ".py",
   "mimetype": "text/x-python",
   "name": "python",
   "nbconvert_exporter": "python",
   "pygments_lexer": "ipython3",
   "version": "3.10.12"
  },
  "papermill": {
   "default_parameters": {},
   "duration": 12.871397,
   "end_time": "2025-07-27T11:32:05.235390",
   "environment_variables": {},
   "exception": null,
   "input_path": "__notebook__.ipynb",
   "output_path": "__notebook__.ipynb",
   "parameters": {},
   "start_time": "2025-07-27T11:31:52.363993",
   "version": "2.6.0"
  }
 },
 "nbformat": 4,
 "nbformat_minor": 5
}
